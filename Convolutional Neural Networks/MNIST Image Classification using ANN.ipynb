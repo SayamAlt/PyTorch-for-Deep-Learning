{
 "cells": [
  {
   "cell_type": "code",
   "execution_count": 1,
   "id": "c0efc15a-99ec-44ca-b6eb-cb975301eb09",
   "metadata": {},
   "outputs": [],
   "source": [
    "import torch, time\n",
    "import torch.nn as nn\n",
    "import torch.nn.functional as F\n",
    "import numpy as np\n",
    "import pandas as pd\n",
    "import matplotlib.pyplot as plt\n",
    "%matplotlib inline\n",
    "from torchvision import datasets, transforms\n",
    "from torch.utils.data import DataLoader\n",
    "from sklearn.metrics import ConfusionMatrixDisplay, confusion_matrix, classification_report\n",
    "from torchvision.utils import make_grid"
   ]
  },
  {
   "cell_type": "code",
   "execution_count": 2,
   "id": "b6d89ad5-4767-4149-a634-5ded5960d9e9",
   "metadata": {},
   "outputs": [],
   "source": [
    "np.set_printoptions(formatter=dict(int=lambda x: f\"{x:4}\")) # Custom Print Formatting"
   ]
  },
  {
   "cell_type": "code",
   "execution_count": 3,
   "id": "71422108-5231-44c7-8c67-b697a4a219f9",
   "metadata": {},
   "outputs": [],
   "source": [
    "# MNIST Image Data -> Tensors\n",
    "transform = transforms.ToTensor()"
   ]
  },
  {
   "cell_type": "code",
   "execution_count": 4,
   "id": "395530db-a488-45e8-9c93-eb18906031b9",
   "metadata": {},
   "outputs": [],
   "source": [
    "mnist_train = datasets.MNIST(root=\"../PYTORCH_NOTEBOOKS/Data/\",train=True,download=True,transform=transform)"
   ]
  },
  {
   "cell_type": "code",
   "execution_count": 5,
   "id": "b538a96d-1bdf-407c-9487-dc196369739e",
   "metadata": {},
   "outputs": [],
   "source": [
    "mnist_test = datasets.MNIST(root=\"../PYTORCH_NOTEBOOKS/Data/\",train=False,download=True,transform=transform)"
   ]
  },
  {
   "cell_type": "code",
   "execution_count": 6,
   "id": "03e1aab5-dc78-4d2c-b895-4fd73f760e0f",
   "metadata": {},
   "outputs": [
    {
     "data": {
      "text/plain": [
       "Dataset MNIST\n",
       "    Number of datapoints: 60000\n",
       "    Root location: ../PYTORCH_NOTEBOOKS/Data/\n",
       "    Split: Train\n",
       "    StandardTransform\n",
       "Transform: ToTensor()"
      ]
     },
     "execution_count": 6,
     "metadata": {},
     "output_type": "execute_result"
    }
   ],
   "source": [
    "mnist_train"
   ]
  },
  {
   "cell_type": "code",
   "execution_count": 7,
   "id": "76f91b1a-e7a6-4532-9454-74c16e270061",
   "metadata": {},
   "outputs": [
    {
     "data": {
      "text/plain": [
       "Dataset MNIST\n",
       "    Number of datapoints: 10000\n",
       "    Root location: ../PYTORCH_NOTEBOOKS/Data/\n",
       "    Split: Test\n",
       "    StandardTransform\n",
       "Transform: ToTensor()"
      ]
     },
     "execution_count": 7,
     "metadata": {},
     "output_type": "execute_result"
    }
   ],
   "source": [
    "mnist_test"
   ]
  },
  {
   "cell_type": "code",
   "execution_count": 8,
   "id": "e417c956-c500-4efb-9c7d-dfa97accf8b6",
   "metadata": {},
   "outputs": [
    {
     "data": {
      "text/plain": [
       "torchvision.datasets.mnist.MNIST"
      ]
     },
     "execution_count": 8,
     "metadata": {},
     "output_type": "execute_result"
    }
   ],
   "source": [
    "type(mnist_train)"
   ]
  },
  {
   "cell_type": "code",
   "execution_count": 9,
   "id": "8cc08be0-3418-4182-b6ea-a8a8b8ee7763",
   "metadata": {},
   "outputs": [
    {
     "data": {
      "text/plain": [
       "torch.Size([1, 28, 28])"
      ]
     },
     "execution_count": 9,
     "metadata": {},
     "output_type": "execute_result"
    }
   ],
   "source": [
    "img, label = mnist_train[0]\n",
    "img.shape"
   ]
  },
  {
   "cell_type": "code",
   "execution_count": 10,
   "id": "961a3b28-0b87-4497-b37f-287ede595205",
   "metadata": {},
   "outputs": [
    {
     "data": {
      "text/plain": [
       "5"
      ]
     },
     "execution_count": 10,
     "metadata": {},
     "output_type": "execute_result"
    }
   ],
   "source": [
    "label"
   ]
  },
  {
   "cell_type": "code",
   "execution_count": 11,
   "id": "cb65d4f4-c7d3-41f3-8486-e926bfed1848",
   "metadata": {},
   "outputs": [
    {
     "data": {
      "image/png": "[encoded data removed]",
      "text/plain": [
       "<Figure size 640x480 with 1 Axes>"
      ]
     },
     "metadata": {},
     "output_type": "display_data"
    }
   ],
   "source": [
    "plt.imshow(img.reshape(28,28),cmap='gist_yarg');"
   ]
  },
  {
   "cell_type": "code",
   "execution_count": 12,
   "id": "6594b7b1-a03b-4620-90ff-90ace602d20c",
   "metadata": {},
   "outputs": [],
   "source": [
    "torch.manual_seed(101)\n",
    "\n",
    "# 0 images, 1 images, .... -> Random shuffling\n",
    "train_loader = DataLoader(dataset=mnist_train,batch_size=100,shuffle=True) # Generalize to all types of images of all digits 0-9\n",
    "test_loader = DataLoader(dataset=mnist_test,batch_size=500,shuffle=False) # No weights and biases adjustment so no need of shuffling"
   ]
  },
  {
   "cell_type": "code",
   "execution_count": 13,
   "id": "178cc091-ddd1-4bbb-83c7-77532d34dda6",
   "metadata": {},
   "outputs": [],
   "source": [
    "for img, label in train_loader:\n",
    "    break"
   ]
  },
  {
   "cell_type": "code",
   "execution_count": 14,
   "id": "e9c4db50-82e3-4024-97fe-19463a3a98b0",
   "metadata": {},
   "outputs": [
    {
     "data": {
      "text/plain": [
       "torch.Size([100, 1, 28, 28])"
      ]
     },
     "execution_count": 14,
     "metadata": {},
     "output_type": "execute_result"
    }
   ],
   "source": [
    "img.shape"
   ]
  },
  {
   "cell_type": "code",
   "execution_count": 15,
   "id": "3016e35b-cf3f-4801-8419-1a3f377bb266",
   "metadata": {},
   "outputs": [
    {
     "data": {
      "text/plain": [
       "tensor([7, 2, 3, 5, 8, 5, 3, 6, 9, 9, 1, 3, 5, 5, 4, 5, 4, 1, 0, 4, 5, 4, 5, 4,\n",
       "        0, 5, 8, 2, 2, 3, 3, 7, 2, 8, 1, 2, 3, 1, 7, 9, 0, 4, 9, 1, 7, 9, 7, 2,\n",
       "        6, 5, 5, 8, 5, 0, 4, 0, 0, 4, 9, 2, 6, 0, 8, 4, 1, 8, 5, 2, 0, 3, 3, 4,\n",
       "        6, 1, 5, 3, 5, 9, 0, 7, 4, 5, 3, 6, 6, 4, 5, 3, 9, 7, 1, 7, 6, 7, 9, 3,\n",
       "        5, 9, 9, 6])"
      ]
     },
     "execution_count": 15,
     "metadata": {},
     "output_type": "execute_result"
    }
   ],
   "source": [
    "label"
   ]
  },
  {
   "cell_type": "code",
   "execution_count": 16,
   "id": "569468b6-d462-4ecc-877a-fc0101adf0a8",
   "metadata": {},
   "outputs": [
    {
     "data": {
      "text/plain": [
       "torch.Size([100])"
      ]
     },
     "execution_count": 16,
     "metadata": {},
     "output_type": "execute_result"
    }
   ],
   "source": [
    "label.shape"
   ]
  },
  {
   "cell_type": "code",
   "execution_count": 17,
   "id": "f49601a2-5b53-4b4c-9682-05a94a1618e0",
   "metadata": {},
   "outputs": [
    {
     "name": "stdout",
     "output_type": "stream",
     "text": [
      "Labels: [   7    2    3    5    8    5    3    6    9    9    1    3    5    5\n",
      "    4    5]\n"
     ]
    }
   ],
   "source": [
    "# Print the first 16 images\n",
    "print(\"Labels:\",label[:16].numpy())"
   ]
  },
  {
   "cell_type": "code",
   "execution_count": 18,
   "id": "4af89c11-4b6e-469b-bfe0-0e9d0889fcdc",
   "metadata": {},
   "outputs": [
    {
     "data": {
      "image/png": "[encoded data removed]",
      "text/plain": [
       "<Figure size 1000x400 with 1 Axes>"
      ]
     },
     "metadata": {},
     "output_type": "display_data"
    }
   ],
   "source": [
    "# Print the first 16 images\n",
    "images = make_grid(img[:16],nrow=16) # default nrow is 8\n",
    "plt.figure(figsize=(10,4))\n",
    "# We need to transpose the images from CWH(Color, Width, Height) to HWC\n",
    "plt.imshow(np.transpose(images.numpy(), (1,2,0)));"
   ]
  },
  {
   "cell_type": "code",
   "execution_count": 19,
   "id": "22233bf1-00f3-4fe9-90bb-f30c976ebc58",
   "metadata": {},
   "outputs": [],
   "source": [
    "class MultiLayerPerceptron(nn.Module):\n",
    "\n",
    "    def __init__(self,input_size=784,output_size=10,layers=[120,84]):\n",
    "        super().__init__()\n",
    "        self.fc1 = nn.Linear(input_size,layers[0])\n",
    "        self.fc2 = nn.Linear(layers[0],layers[1])\n",
    "        self.fc3 = nn.Linear(layers[1],output_size)\n",
    "\n",
    "    def forward(self,X):\n",
    "        X = F.relu(self.fc1(X))\n",
    "        X = F.relu(self.fc2(X))\n",
    "        X = self.fc3(X)\n",
    "        return F.log_softmax(X,dim=1) # Multi class classification"
   ]
  },
  {
   "cell_type": "code",
   "execution_count": 20,
   "id": "6b7b5f00-8045-43d7-9202-4ff10f5986c3",
   "metadata": {},
   "outputs": [
    {
     "data": {
      "text/plain": [
       "MultiLayerPerceptron(\n",
       "  (fc1): Linear(in_features=784, out_features=120, bias=True)\n",
       "  (fc2): Linear(in_features=120, out_features=84, bias=True)\n",
       "  (fc3): Linear(in_features=84, out_features=10, bias=True)\n",
       ")"
      ]
     },
     "execution_count": 20,
     "metadata": {},
     "output_type": "execute_result"
    }
   ],
   "source": [
    "torch.manual_seed(101)\n",
    "\n",
    "model = MultiLayerPerceptron()\n",
    "model"
   ]
  },
  {
   "cell_type": "code",
   "execution_count": 21,
   "id": "229b8f97-d22b-4f90-a2fc-6768b55160a5",
   "metadata": {},
   "outputs": [
    {
     "name": "stdout",
     "output_type": "stream",
     "text": [
      "94080\n",
      "120\n",
      "10080\n",
      "84\n",
      "840\n",
      "10\n"
     ]
    }
   ],
   "source": [
    "for param in model.parameters():\n",
    "    print(param.numel())"
   ]
  },
  {
   "cell_type": "code",
   "execution_count": 22,
   "id": "5801a7bc-85ec-4c70-8009-44153767a310",
   "metadata": {},
   "outputs": [],
   "source": [
    "# 105,214 parameters being adjusted by the network -> A limitation of ANN while dealing with image data\n",
    "# This is a motivation behind the utility of CNN"
   ]
  },
  {
   "cell_type": "code",
   "execution_count": 23,
   "id": "41bb5c7e-b8ec-4d17-a064-434546d7d52d",
   "metadata": {},
   "outputs": [
    {
     "data": {
      "text/plain": [
       "CrossEntropyLoss()"
      ]
     },
     "execution_count": 23,
     "metadata": {},
     "output_type": "execute_result"
    }
   ],
   "source": [
    "criterion = nn.CrossEntropyLoss()\n",
    "criterion"
   ]
  },
  {
   "cell_type": "code",
   "execution_count": 24,
   "id": "7707c851-88b0-4a69-a2c8-11a19ab4a36a",
   "metadata": {},
   "outputs": [
    {
     "data": {
      "text/plain": [
       "Adam (\n",
       "Parameter Group 0\n",
       "    amsgrad: False\n",
       "    betas: (0.9, 0.999)\n",
       "    capturable: False\n",
       "    differentiable: False\n",
       "    eps: 1e-08\n",
       "    foreach: None\n",
       "    fused: None\n",
       "    lr: 0.001\n",
       "    maximize: False\n",
       "    weight_decay: 0\n",
       ")"
      ]
     },
     "execution_count": 24,
     "metadata": {},
     "output_type": "execute_result"
    }
   ],
   "source": [
    "optimizer = torch.optim.Adam(model.parameters(),lr=0.001)\n",
    "optimizer"
   ]
  },
  {
   "cell_type": "code",
   "execution_count": 25,
   "id": "b2041296-2638-419f-b972-c27b9457548d",
   "metadata": {},
   "outputs": [
    {
     "data": {
      "text/plain": [
       "torch.Size([100, 1, 28, 28])"
      ]
     },
     "execution_count": 25,
     "metadata": {},
     "output_type": "execute_result"
    }
   ],
   "source": [
    "img.shape # [100,1,28,28] -> [100,784] flatten the image into 784 pixels"
   ]
  },
  {
   "cell_type": "code",
   "execution_count": 26,
   "id": "74778fe9-e479-495d-8615-9c810f034c7c",
   "metadata": {},
   "outputs": [
    {
     "data": {
      "text/plain": [
       "tensor([[0., 0., 0.,  ..., 0., 0., 0.],\n",
       "        [0., 0., 0.,  ..., 0., 0., 0.],\n",
       "        [0., 0., 0.,  ..., 0., 0., 0.],\n",
       "        ...,\n",
       "        [0., 0., 0.,  ..., 0., 0., 0.],\n",
       "        [0., 0., 0.,  ..., 0., 0., 0.],\n",
       "        [0., 0., 0.,  ..., 0., 0., 0.]])"
      ]
     },
     "execution_count": 26,
     "metadata": {},
     "output_type": "execute_result"
    }
   ],
   "source": [
    "img.view(100,-1)"
   ]
  },
  {
   "cell_type": "code",
   "execution_count": 27,
   "id": "9277e507-d59f-49f7-a083-741747a6c62d",
   "metadata": {},
   "outputs": [
    {
     "data": {
      "text/plain": [
       "torch.Size([100, 784])"
      ]
     },
     "execution_count": 27,
     "metadata": {},
     "output_type": "execute_result"
    }
   ],
   "source": [
    "img.view(100,-1).shape"
   ]
  },
  {
   "cell_type": "code",
   "execution_count": 28,
   "id": "bdcfa792-d86d-4ec0-aad3-2fc16879a8d0",
   "metadata": {},
   "outputs": [
    {
     "name": "stdout",
     "output_type": "stream",
     "text": [
      "Epoch 0 Batch 200 Loss 0.2356237769126892 Accuracy 83.245\n",
      "Epoch 0 Batch 400 Loss 0.3533070683479309 Accuracy 87.5325\n",
      "Epoch 0 Batch 600 Loss 0.13734398782253265 Accuracy 89.58166666666666\n",
      "Epoch 1 Batch 200 Loss 0.24684995412826538 Accuracy 94.87\n",
      "Epoch 1 Batch 400 Loss 0.14273887872695923 Accuracy 95.085\n",
      "Epoch 1 Batch 600 Loss 0.0733654722571373 Accuracy 95.355\n",
      "Epoch 2 Batch 200 Loss 0.08371469378471375 Accuracy 96.515\n",
      "Epoch 2 Batch 400 Loss 0.06228961795568466 Accuracy 96.6125\n",
      "Epoch 2 Batch 600 Loss 0.0645318254828453 Accuracy 96.705\n",
      "Epoch 3 Batch 200 Loss 0.11824802309274673 Accuracy 97.655\n",
      "Epoch 3 Batch 400 Loss 0.05599309876561165 Accuracy 97.495\n",
      "Epoch 3 Batch 600 Loss 0.031239399686455727 Accuracy 97.50166666666667\n",
      "Epoch 4 Batch 200 Loss 0.10904989391565323 Accuracy 98.13\n",
      "Epoch 4 Batch 400 Loss 0.04928436130285263 Accuracy 97.965\n",
      "Epoch 4 Batch 600 Loss 0.05629673972725868 Accuracy 97.96833333333333\n",
      "Epoch 5 Batch 200 Loss 0.007767505012452602 Accuracy 98.375\n",
      "Epoch 5 Batch 400 Loss 0.042723480612039566 Accuracy 98.455\n",
      "Epoch 5 Batch 600 Loss 0.058260612189769745 Accuracy 98.38\n",
      "Epoch 6 Batch 200 Loss 0.03524753823876381 Accuracy 98.86\n",
      "Epoch 6 Batch 400 Loss 0.06469018757343292 Accuracy 98.7075\n",
      "Epoch 6 Batch 600 Loss 0.09006001800298691 Accuracy 98.675\n",
      "Epoch 7 Batch 200 Loss 0.07528944313526154 Accuracy 99.18\n",
      "Epoch 7 Batch 400 Loss 0.07393970340490341 Accuracy 98.9875\n",
      "Epoch 7 Batch 600 Loss 0.042069949209690094 Accuracy 98.92833333333333\n",
      "Epoch 8 Batch 200 Loss 0.004858152940869331 Accuracy 99.16\n",
      "Epoch 8 Batch 400 Loss 0.007756856735795736 Accuracy 99.0825\n",
      "Epoch 8 Batch 600 Loss 0.08846515417098999 Accuracy 99.06666666666666\n",
      "Epoch 9 Batch 200 Loss 0.004955102689564228 Accuracy 99.385\n",
      "Epoch 9 Batch 400 Loss 0.010049503296613693 Accuracy 99.2425\n",
      "Epoch 9 Batch 600 Loss 0.015285197645425797 Accuracy 99.235\n",
      "Time elapsed in ANN model training: 2.5449392994244895 minutes\n"
     ]
    }
   ],
   "source": [
    "start_time = time.time()\n",
    "\n",
    "epochs = 10\n",
    "\n",
    "# Trackers\n",
    "train_losses = []\n",
    "test_losses = []\n",
    "train_correct_predictions = []\n",
    "test_correct_predictions = []\n",
    "\n",
    "for i in range(epochs):\n",
    "    train_correct = 0\n",
    "    test_correct = 0\n",
    "\n",
    "    for batch_no, (X_train, y_train) in enumerate(train_loader):\n",
    "        batch_no += 1\n",
    "        y_pred = model(X_train.view(100,-1))\n",
    "        loss = criterion(y_pred,y_train)\n",
    "        predictions = torch.max(y_pred.data,1)[1]\n",
    "        # print(torch.max(y_pred.data,1))\n",
    "        # print(X_train.shape)\n",
    "        train_correct += (predictions == y_train).sum()\n",
    "\n",
    "        optimizer.zero_grad()\n",
    "        loss.backward()\n",
    "        optimizer.step()\n",
    "        \n",
    "        if batch_no % 200 == 0:\n",
    "            print(f\"Epoch {i} Batch {batch_no} Loss {loss.item()} Accuracy {(train_correct.item()*100)/(batch_no*100)}\")\n",
    "\n",
    "    train_losses.append(loss.item())\n",
    "    train_correct_predictions.append(train_correct.item())\n",
    "\n",
    "    with torch.no_grad():\n",
    "        for batch_no, (X_test, y_test) in enumerate(test_loader):\n",
    "            y_pred = model(X_test.view(500,-1))\n",
    "            predictions = torch.max(y_pred.data,1)[1]\n",
    "            test_correct += (predictions == y_test).sum()\n",
    "            # print(X_test.shape)\n",
    "\n",
    "    loss = criterion(y_pred,y_test)\n",
    "    test_losses.append(loss.item())\n",
    "    test_correct_predictions.append(test_correct.item())\n",
    "\n",
    "print(f\"Time elapsed in ANN model training: {(time.time()-start_time)/60} minutes\")"
   ]
  },
  {
   "cell_type": "code",
   "execution_count": 29,
   "id": "24a246a7-2aa1-41ef-b763-0b2485aa742d",
   "metadata": {},
   "outputs": [
    {
     "data": {
      "image/png": "[encoded data removed]",
      "text/plain": [
       "<Figure size 640x480 with 1 Axes>"
      ]
     },
     "metadata": {},
     "output_type": "display_data"
    }
   ],
   "source": [
    "plt.plot(train_losses,'r',label='train loss')\n",
    "plt.plot(test_losses,'b',label='test loss')\n",
    "plt.xlabel('Epoch')\n",
    "plt.ylabel('Cross Entropy Loss')\n",
    "plt.legend();"
   ]
  },
  {
   "cell_type": "code",
   "execution_count": 30,
   "id": "4daddb16-dd52-458e-aae2-a529bd611a05",
   "metadata": {},
   "outputs": [],
   "source": [
    "train_accuracies = [x/600 for x in train_correct_predictions]\n",
    "test_accuracies = [x/100 for x in test_correct_predictions]"
   ]
  },
  {
   "cell_type": "code",
   "execution_count": 31,
   "id": "f1f0ae3d-0e1c-4edd-8b60-0d10e34faa5f",
   "metadata": {},
   "outputs": [
    {
     "data": {
      "image/png": "[encoded data removed]",
      "text/plain": [
       "<Figure size 640x480 with 1 Axes>"
      ]
     },
     "metadata": {},
     "output_type": "display_data"
    }
   ],
   "source": [
    "plt.plot(train_accuracies,'r',label='train accuracy')\n",
    "plt.plot(test_accuracies,'b',label='test accuracy')\n",
    "plt.xlabel('Epoch')\n",
    "plt.ylabel('Accuracy')\n",
    "plt.legend();"
   ]
  },
  {
   "cell_type": "code",
   "execution_count": 32,
   "id": "5dc85b7e-99b2-4242-a1b2-1c6db4f12e62",
   "metadata": {},
   "outputs": [],
   "source": [
    "# Test the model on new UNSEEN data\n",
    "test_data = DataLoader(dataset=mnist_test,batch_size=10000,shuffle=False)"
   ]
  },
  {
   "cell_type": "code",
   "execution_count": 33,
   "id": "703f018b-faf3-42ab-ad4c-1c403d607c4f",
   "metadata": {},
   "outputs": [
    {
     "data": {
      "text/plain": [
       "torch.utils.data.dataloader.DataLoader"
      ]
     },
     "execution_count": 33,
     "metadata": {},
     "output_type": "execute_result"
    }
   ],
   "source": [
    "type(test_data)"
   ]
  },
  {
   "cell_type": "code",
   "execution_count": 34,
   "id": "67ef1b23-c143-4d93-b053-07a77dc7f478",
   "metadata": {},
   "outputs": [],
   "source": [
    "with torch.no_grad():\n",
    "    correct_predictions = 0\n",
    "\n",
    "    for X_test, y_test in test_data:\n",
    "        y_pred = model(X_test.view(len(X_test),-1))\n",
    "        predicted = torch.max(y_pred,1)[1]\n",
    "        correct_predictions += (predicted == y_test).sum()"
   ]
  },
  {
   "cell_type": "code",
   "execution_count": 35,
   "id": "29622eca-653d-41e5-953a-d5ddc944fef3",
   "metadata": {},
   "outputs": [
    {
     "data": {
      "text/plain": [
       "97.78"
      ]
     },
     "execution_count": 35,
     "metadata": {},
     "output_type": "execute_result"
    }
   ],
   "source": [
    "100 * correct_predictions.item() / len(mnist_test)"
   ]
  },
  {
   "cell_type": "code",
   "execution_count": 37,
   "id": "351e80b1-1013-4a21-b506-66b0ab11c32f",
   "metadata": {},
   "outputs": [
    {
     "data": {
      "text/plain": [
       "array([[ 972,    0,    4,    0,    1,    2,    5,    3,    3,    3],\n",
       "       [   0, 1125,    3,    1,    0,    0,    3,    7,    0,    2],\n",
       "       [   1,    3, 1004,    4,    1,    0,    2,   10,    3,    0],\n",
       "       [   2,    2,    5,  987,    0,   13,    1,    1,    2,    3],\n",
       "       [   0,    0,    2,    0,  961,    3,    2,    2,    3,    9],\n",
       "       [   0,    0,    0,    6,    0,  862,    4,    0,    2,    2],\n",
       "       [   1,    1,    2,    0,    6,    2,  940,    0,    1,    0],\n",
       "       [   0,    0,    3,    3,    1,    1,    0,  986,    3,    0],\n",
       "       [   3,    4,    9,    4,    2,    8,    1,    4,  954,    3],\n",
       "       [   1,    0,    0,    5,   10,    1,    0,   15,    3,  987]],\n",
       "      dtype=int64)"
      ]
     },
     "execution_count": 37,
     "metadata": {},
     "output_type": "execute_result"
    }
   ],
   "source": [
    "confusion_matrix(predicted,y_test)"
   ]
  },
  {
   "cell_type": "code",
   "execution_count": 38,
   "id": "9dcf4218-b858-4192-befd-a5bfd95efb9d",
   "metadata": {},
   "outputs": [
    {
     "data": {
      "text/plain": [
       "<sklearn.metrics._plot.confusion_matrix.ConfusionMatrixDisplay at 0x1539b2b0e90>"
      ]
     },
     "execution_count": 38,
     "metadata": {},
     "output_type": "execute_result"
    },
    {
     "data": {
      "image/png": "[encoded data removed]",
      "text/plain": [
       "<Figure size 640x480 with 2 Axes>"
      ]
     },
     "metadata": {},
     "output_type": "display_data"
    }
   ],
   "source": [
    "ConfusionMatrixDisplay.from_predictions(predicted,y_test)"
   ]
  },
  {
   "cell_type": "code",
   "execution_count": 39,
   "id": "3c255d0e-3c3c-4dcc-95b8-78cd6533c797",
   "metadata": {},
   "outputs": [
    {
     "name": "stdout",
     "output_type": "stream",
     "text": [
      "Classification Report:\n",
      "              precision    recall  f1-score   support\n",
      "\n",
      "           0       0.99      0.98      0.99       993\n",
      "           1       0.99      0.99      0.99      1141\n",
      "           2       0.97      0.98      0.97      1028\n",
      "           3       0.98      0.97      0.97      1016\n",
      "           4       0.98      0.98      0.98       982\n",
      "           5       0.97      0.98      0.98       876\n",
      "           6       0.98      0.99      0.98       953\n",
      "           7       0.96      0.99      0.97       997\n",
      "           8       0.98      0.96      0.97       992\n",
      "           9       0.98      0.97      0.97      1022\n",
      "\n",
      "    accuracy                           0.98     10000\n",
      "   macro avg       0.98      0.98      0.98     10000\n",
      "weighted avg       0.98      0.98      0.98     10000\n",
      "\n"
     ]
    }
   ],
   "source": [
    "print(\"Classification Report:\")\n",
    "print(classification_report(predicted,y_test))"
   ]
  }
 ],
 "metadata": {
  "kernelspec": {
   "display_name": "Python 3 (ipykernel)",
   "language": "python",
   "name": "python3"
  },
  "language_info": {
   "codemirror_mode": {
    "name": "ipython",
    "version": 3
   },
   "file_extension": ".py",
   "mimetype": "text/x-python",
   "name": "python",
   "nbconvert_exporter": "python",
   "pygments_lexer": "ipython3",
   "version": "3.12.4"
  }
 },
 "nbformat": 4,
 "nbformat_minor": 5
}
